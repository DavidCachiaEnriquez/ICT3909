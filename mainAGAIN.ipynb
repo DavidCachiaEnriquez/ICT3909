{
 "cells": [
  {
   "cell_type": "markdown",
   "metadata": {},
   "source": [
    "## Imports and Hyper-Parameter"
   ]
  },
  {
   "cell_type": "code",
   "execution_count": 1,
   "metadata": {},
   "outputs": [
    {
     "name": "stdout",
     "output_type": "stream",
     "text": [
      "importing Jupyter notebook from c:\\Users\\User\\Documents\\University\\Final Year Project\\Datasets\\AGAIN\\Code\\labelAGAINWindowed.ipynb\n",
      "importing Jupyter notebook from c:\\Users\\User\\Documents\\University\\Final Year Project\\Datasets\\AGAIN\\Code\\controlDataset.ipynb\n",
      "importing Jupyter notebook from c:\\Users\\User\\Documents\\University\\Final Year Project\\SharedCode\\supervisedModelTraining.ipynb\n",
      "importing Jupyter notebook from c:\\Users\\User\\Documents\\University\\Final Year Project\\SharedCode\\semiSupervisedModelTraining.ipynb\n"
     ]
    },
    {
     "name": "stderr",
     "output_type": "stream",
     "text": [
      "<string>:26: SyntaxWarning: \"is not\" with a literal. Did you mean \"!=\"?\n"
     ]
    }
   ],
   "source": [
    "# Notebook Imports\n",
    "import import_ipynb\n",
    "from Datasets.AGAIN.Code import labelAGAINWindowed\n",
    "from Datasets.AGAIN.Code import controlDataset"
   ]
  },
  {
   "cell_type": "code",
   "execution_count": 2,
   "metadata": {},
   "outputs": [],
   "source": [
    "# Code Imports\n",
    "import warnings\n",
    "warnings.filterwarnings(\"ignore\")\n",
    "\n",
    "import os\n",
    "import pandas as pd"
   ]
  },
  {
   "cell_type": "code",
   "execution_count": 3,
   "metadata": {},
   "outputs": [],
   "source": [
    "RERUN_CODE = False"
   ]
  },
  {
   "cell_type": "markdown",
   "metadata": {},
   "source": [
    "## Create Dataset"
   ]
  },
  {
   "cell_type": "code",
   "execution_count": 4,
   "metadata": {},
   "outputs": [
    {
     "name": "stdout",
     "output_type": "stream",
     "text": [
      "Windowed Dataset has already been created, will not re-execute code.\n"
     ]
    }
   ],
   "source": [
    "if \"topDownWindowed.csv\" not in os.listdir(\"Datasets/AGAIN\") or \"shootoutWindowed.csv\" not in os.listdir(\"Datasets/AGAIN\") or \"heistWindowed.csv\" not in os.listdir(\"Datasets/AGAIN\") or RERUN_CODE is True:\n",
    "    # Load Dataset as Dataframe\n",
    "    againLoc = \"Datasets/AGAIN/Dataset/\"\n",
    "    dataframe = pd.read_csv(againLoc + os.listdir(againLoc)[0])\n",
    "\n",
    "    # Remove non-shooter games, and split dataset per game\n",
    "    topDownDF, shootoutDF, heistDF = labelAGAINWindowed.splitByGame(dataframe)\n",
    "\n",
    "    # Remove empty/unneeded columns\n",
    "    topDownDF = labelAGAINWindowed.removeColumns(topDownDF)\n",
    "    shootoutDF = labelAGAINWindowed.removeColumns(shootoutDF)\n",
    "    heistDF = labelAGAINWindowed.removeColumns(heistDF)\n",
    "\n",
    "    # Get list of participants\n",
    "    topDownParticipant = labelAGAINWindowed.getParticipantIDs(topDownDF)\n",
    "    shootoutParticipant = labelAGAINWindowed.getParticipantIDs(shootoutDF)\n",
    "    heistParticipant = labelAGAINWindowed.getParticipantIDs(heistDF)\n",
    "\n",
    "    # Create Windowed Dataset\n",
    "    windowedTopDown = labelAGAINWindowed.windowTheDataset(topDownDF, list(topDownParticipant))\n",
    "    windowedShootout = labelAGAINWindowed.windowTheDataset(shootoutDF, list(shootoutParticipant))\n",
    "    windowedHeist = labelAGAINWindowed.windowTheDataset(heistDF, list(heistParticipant))\n",
    "\n",
    "    # Create Arousal Label\n",
    "    arousalTopDown = labelAGAINWindowed.lowHighDeterminer(windowedTopDown, topDownParticipant)\n",
    "    arousalShootout = labelAGAINWindowed.lowHighDeterminer(windowedShootout, topDownParticipant)\n",
    "    arousalHeist = labelAGAINWindowed.lowHighDeterminer(windowedHeist, topDownParticipant)\n",
    "\n",
    "    # Final Clean Up of Dataset\n",
    "    finalTopDown = labelAGAINWindowed.finalCleanUp(arousalTopDown)\n",
    "    finalShootout = labelAGAINWindowed.finalCleanUp(arousalShootout)\n",
    "    finalHeist = labelAGAINWindowed.finalCleanUp(arousalHeist)\n",
    "\n",
    "    # Saving as CSVs\n",
    "    finalTopDown.to_csv(\"Datasets/AGAIN/topDownWindowed.csv\", index=False)\n",
    "    finalShootout.to_csv(\"Datasets/AGAIN/shootoutWindowed.csv\", index=False)\n",
    "    finalHeist.to_csv(\"Datasets/AGAIN/heistWindowed.csv\", index=False)\n",
    "\n",
    "else:\n",
    "    print(\"Windowed Dataset has already been created, will not re-execute code.\")"
   ]
  },
  {
   "cell_type": "markdown",
   "metadata": {},
   "source": [
    "## Supervised Training"
   ]
  },
  {
   "cell_type": "code",
   "execution_count": 5,
   "metadata": {},
   "outputs": [
    {
     "name": "stdout",
     "output_type": "stream",
     "text": [
      "TopDown Tests\n",
      "Binary Logistic Regression has already started training, will not start again from scratch.\n",
      "Completed Tests: 1/1\n",
      "\n",
      "Random Forest has already started training, will not start again from scratch.\n",
      "Completed Tests: 1/1\n",
      "\n",
      "Neural Network has already started training, will not start again from scratch.\n",
      "Completed Tests: 1/1\n",
      "\n",
      "Shootout Tests\n",
      "Binary Logistic Regression has already started training, will not start again from scratch.\n",
      "Completed Tests: 1/1\n",
      "\n",
      "Random Forest has already started training, will not start again from scratch.\n",
      "Completed Tests: 1/1\n",
      "\n",
      "Neural Network has already started training, will not start again from scratch.\n",
      "Completed Tests: 1/1\n",
      "\n",
      "Heist! Tests\n",
      "Binary Logistic Regression has already started training, will not start again from scratch.\n",
      "Completed Tests: 1/1\n",
      "\n",
      "Random Forest has already started training, will not start again from scratch.\n",
      "Completed Tests: 1/1\n",
      "\n",
      "Neural Network has already started training, will not start again from scratch.\n",
      "Completed Tests: 1/1\n"
     ]
    }
   ],
   "source": [
    "# Make folder for results\n",
    "if \"Supervised Models\" not in os.listdir(\"Datasets/AGAIN\"): os.makedirs(\"Datasets/AGAIN/Supervised Models\")\n",
    "\n",
    "# Call control function\n",
    "controlDataset.runSupervisedTests(\"TopDown\"); print()\n",
    "controlDataset.runSupervisedTests(\"Shootout\"); print()\n",
    "controlDataset.runSupervisedTests(\"Heist!\")"
   ]
  },
  {
   "cell_type": "markdown",
   "metadata": {},
   "source": [
    "## Semi-Supervised Training"
   ]
  },
  {
   "cell_type": "code",
   "execution_count": 6,
   "metadata": {},
   "outputs": [
    {
     "name": "stdout",
     "output_type": "stream",
     "text": [
      "TopDown Tests\n",
      "Co-Training has already started training, will not start again from scratch.\n",
      "Completed Tests: 9/9\n",
      "\n",
      "Tri-Training has already started training, will not start again from scratch.\n",
      "Completed Tests: 9/9\n",
      "\n",
      "SSGMM has already started training, will not start again from scratch.\n",
      "Completed Tests: 3/3\n",
      "\n",
      "Assemble has already started training, will not start again from scratch.\n",
      "Completed Tests: 6/9\n",
      "\n",
      "SemiBoost has already started training, will not start again from scratch.\n",
      "Completed Tests: 9/9\n",
      "\n",
      "Shootout Tests\n",
      "Co-Training has already started training, will not start again from scratch.\n",
      "Completed Tests: 9/9\n",
      "\n",
      "Tri-Training has already started training, will not start again from scratch.\n",
      "Completed Tests: 9/9\n",
      "\n",
      "SSGMM has already started training, will not start again from scratch.\n",
      "Completed Tests: 3/3\n",
      "\n",
      "Assemble has already started training, will not start again from scratch.\n",
      "Completed Tests: 6/9\n",
      "\n",
      "SemiBoost has already started training, will not start again from scratch.\n",
      "Completed Tests: 9/9\n",
      "\n",
      "Heist! Tests\n",
      "Co-Training has already started training, will not start again from scratch.\n",
      "Completed Tests: 9/9\n",
      "\n",
      "Tri-Training has already started training, will not start again from scratch.\n",
      "Completed Tests: 9/9\n",
      "\n",
      "SSGMM has already started training, will not start again from scratch.\n",
      "Completed Tests: 3/3\n",
      "\n",
      "Assemble has already started training, will not start again from scratch.\n",
      "Completed Tests: 6/9\n",
      "\n",
      "SemiBoost has already started training, will not start again from scratch.\n",
      "Completed Tests: 9/9\n"
     ]
    }
   ],
   "source": [
    "# Make folder for results\n",
    "if \"Semi-Supervised Models\" not in os.listdir(\"Datasets/AGAIN\"): os.makedirs(\"Datasets/AGAIN/Semi-Supervised Models\")\n",
    "\n",
    "# Call control function\n",
    "controlDataset.runSemiSupervisedTests(\"TopDown\"); print()\n",
    "controlDataset.runSemiSupervisedTests(\"Shootout\"); print()\n",
    "controlDataset.runSemiSupervisedTests(\"Heist!\")"
   ]
  }
 ],
 "metadata": {
  "kernelspec": {
   "display_name": "FYP_Environment",
   "language": "python",
   "name": "python3"
  },
  "language_info": {
   "codemirror_mode": {
    "name": "ipython",
    "version": 3
   },
   "file_extension": ".py",
   "mimetype": "text/x-python",
   "name": "python",
   "nbconvert_exporter": "python",
   "pygments_lexer": "ipython3",
   "version": "3.11.7"
  }
 },
 "nbformat": 4,
 "nbformat_minor": 2
}
