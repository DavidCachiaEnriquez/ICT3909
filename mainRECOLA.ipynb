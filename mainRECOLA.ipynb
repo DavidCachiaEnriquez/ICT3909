{
 "cells": [
  {
   "cell_type": "markdown",
   "metadata": {},
   "source": [
    "## Imports and Hyper-Parameter"
   ]
  },
  {
   "cell_type": "code",
   "execution_count": 1,
   "metadata": {},
   "outputs": [
    {
     "name": "stdout",
     "output_type": "stream",
     "text": [
      "importing Jupyter notebook from c:\\Users\\User\\Documents\\University\\Final Year Project\\Code\\Datasets\\RECOLA\\Code\\labelRECOLAWindowed.ipynb\n",
      "importing Jupyter notebook from c:\\Users\\User\\Documents\\University\\Final Year Project\\Code\\SharedCode\\supervisedModelTraining.ipynb\n",
      "importing Jupyter notebook from c:\\Users\\User\\Documents\\University\\Final Year Project\\Code\\SharedCode\\semiSupervisedModelTraining.ipynb\n"
     ]
    }
   ],
   "source": [
    "# Notebook Imports\n",
    "import import_ipynb\n",
    "from Datasets.RECOLA.Code import labelRECOLAWindowed\n",
    "from SharedCode import supervisedModelTraining\n",
    "from SharedCode import semiSupervisedModelTraining"
   ]
  },
  {
   "cell_type": "code",
   "execution_count": 2,
   "metadata": {},
   "outputs": [],
   "source": [
    "# Code Imports\n",
    "import warnings\n",
    "warnings.filterwarnings(\"ignore\")\n",
    "\n",
    "import os\n",
    "import pandas as pd\n",
    "from pandas.core.frame import DataFrame\n",
    "import time\n",
    "import numpy as np"
   ]
  },
  {
   "cell_type": "code",
   "execution_count": 3,
   "metadata": {},
   "outputs": [],
   "source": [
    "RERUN_CODE = False"
   ]
  },
  {
   "cell_type": "markdown",
   "metadata": {},
   "source": [
    "## Create Dataset"
   ]
  },
  {
   "cell_type": "code",
   "execution_count": 4,
   "metadata": {},
   "outputs": [
    {
     "name": "stdout",
     "output_type": "stream",
     "text": [
      "Windowed Dataset has already been created, will not re-execute code.\n"
     ]
    }
   ],
   "source": [
    "if \"RecolaWindowed.csv\" not in os.listdir(\"Datasets/RECOLA\") or RERUN_CODE is True:\n",
    "  # Dataset Location\n",
    "  recolaLoc = \"Datasets/RECOLA/Dataset/\"\n",
    "\n",
    "  # Get participant dataframes\n",
    "  participantCSV = []\n",
    "  for fileName in list(os.listdir(recolaLoc)):\n",
    "    if fileName[3:] == \".csv\":\n",
    "      temp = pd.read_csv(recolaLoc + fileName)\n",
    "      nullChecker = temp.isna().any().any()\n",
    "      if not nullChecker:\n",
    "        participantCSV.append(temp)\n",
    "\n",
    "  # Big list with dictionaries for each participants data\n",
    "  participantDataListMessy = []\n",
    "\n",
    "  # Get participant data\n",
    "  for participantDF in participantCSV:\n",
    "    print(\"Participant Begun\")\n",
    "    listOfDict = labelRECOLAWindowed.getParticipantData(DataFrame.copy(participantDF), len(participantDataListMessy)+1)\n",
    "    participantDataListMessy.append(listOfDict)\n",
    "    print(\"Participant Completed [\" + str(len(participantDataListMessy)) + \"/\" + str(len(participantCSV)) + \"]\\n\")\n",
    "\n",
    "  # Flatten the participant data list\n",
    "  participantDataListFlattened = labelRECOLAWindowed.flattenList(participantDataListMessy)\n",
    "\n",
    "  # Convert to dataframe\n",
    "  windowedDataframe = labelRECOLAWindowed.convertToFrame(participantDataListFlattened)\n",
    "\n",
    "  # Create class labels\n",
    "  compltededDataFrame = labelRECOLAWindowed.createClassLabels(windowedDataframe)\n",
    "\n",
    "  # Saving dataframe to csv\n",
    "  compltededDataFrame.to_csv(\"Datasets/RECOLA/RecolaWindowed.csv\", index=False)\n",
    "\n",
    "else:\n",
    "  print(\"Windowed Dataset has already been created, will not re-execute code.\")"
   ]
  },
  {
   "cell_type": "markdown",
   "metadata": {},
   "source": [
    "## Supervised Training"
   ]
  },
  {
   "cell_type": "markdown",
   "metadata": {},
   "source": [
    "### Setup"
   ]
  },
  {
   "cell_type": "code",
   "execution_count": 5,
   "metadata": {},
   "outputs": [],
   "source": [
    "# Make folder for results\n",
    "if \"Supervised Models\" not in os.listdir(\"Datasets/RECOLA\"): os.makedirs(\"Datasets/RECOLA/Supervised Models\") \n",
    "\n",
    "# Loading dataset\n",
    "dataset = pd.read_csv(\"Datasets/RECOLA/RecolaWindowed.csv\")\n",
    "\n",
    "# Groups\n",
    "groups = list(dataset[\"participantNumber\"])\n",
    "\n",
    "# Features\n",
    "audioFeatures = dataset.filter(regex=f'^{\"ComPar\"}|{\"audio_speech\"}', axis=1)\n",
    "visualFeatures = dataset.filter(regex=f'^{\"VIDEO\"}|{\"Face_detection\"}', axis=1)\n",
    "physiologyFeatures = dataset.filter(regex=f'^{\"ECG\"}|{\"EDA\"}', axis=1)\n",
    "allFeatures = dataset.filter(regex=f'^{\"ComPar\"}|{\"audio_speech\"}|{\"VIDEO\"}|{\"Face_detection\"}|{\"ECG\"}|{\"EDA\"}', axis=1)\n",
    "\n",
    "# Labels\n",
    "targetArousal = dataset[\"classLabelArousal\"]\n",
    "targetValence = dataset[\"classLabelValence\"]\n",
    "\n",
    "# Number of Folds\n",
    "folds = 9\n",
    "\n",
    "# Grouping data for easy running\n",
    "featureList = [\"Audio\", \"Visual\", \"Physiology\", \"All\"]\n",
    "targetList = [\"Arousal\", \"Valence\"]\n",
    "valueDict = {\"Audio\": audioFeatures, \"Visual\": visualFeatures, \"Physiology\": physiologyFeatures, \"All\": allFeatures, \"Arousal\": targetArousal, \"Valence\": targetValence,}"
   ]
  },
  {
   "cell_type": "markdown",
   "metadata": {},
   "source": [
    "### Binary Logistic Regression"
   ]
  },
  {
   "cell_type": "code",
   "execution_count": 6,
   "metadata": {},
   "outputs": [
    {
     "name": "stdout",
     "output_type": "stream",
     "text": [
      "Binary Logistic Regression has already started training, will not start again from scratch.\n"
     ]
    }
   ],
   "source": [
    "if \"Binary Logistic Regression\" not in os.listdir(\"Datasets/RECOLA/Supervised Models\"):\n",
    "  os.makedirs(\"Datasets/RECOLA/Supervised Models/Binary Logistic Regression\")\n",
    "\n",
    "if \"Per Fold Results\" not in os.listdir(\"Datasets/RECOLA/Supervised Models/Binary Logistic Regression\"):\n",
    "  os.makedirs(\"Datasets/RECOLA/Supervised Models/Binary Logistic Regression/Per Fold Results\")\n",
    "\n",
    "if \"ConfusionMatrices.csv\" not in os.listdir(\"Datasets/RECOLA/Supervised Models/Binary Logistic Regression\") or RERUN_CODE == True:\n",
    "  open(\"Datasets/RECOLA/Supervised Models/Binary Logistic Regression/ConfusionMatrices.csv\", \"w\")\n",
    "\n",
    "if \"NoCopyChecker.txt\" in os.listdir(\"Datasets/RECOLA/Supervised Models/Binary Logistic Regression\") and RERUN_CODE == False:\n",
    "  print(\"Binary Logistic Regression has already started training, will not start again from scratch.\")\n",
    "else:\n",
    "  with open(\"Datasets/RECOLA/Supervised Models/Binary Logistic Regression/NoCopyChecker.txt\", \"w\") as file:\n",
    "    file.close"
   ]
  },
  {
   "cell_type": "code",
   "execution_count": 7,
   "metadata": {},
   "outputs": [
    {
     "name": "stdout",
     "output_type": "stream",
     "text": [
      "Completed Tests: 8/8\n"
     ]
    }
   ],
   "source": [
    "completed  = []\n",
    "with open(\"Datasets/RECOLA/Supervised Models/Binary Logistic Regression/NoCopyChecker.txt\", \"r+\") as file:\n",
    "  completed  = file.read()\n",
    "  file.close()\n",
    "\n",
    "completed = completed.split()\n",
    "print(\"Completed Tests: \" + str(len(completed)) + \"/\" + str(len(featureList) * len(targetList)))\n",
    "\n",
    "for i in featureList:\n",
    "  for j in targetList:\n",
    "    fileName = i + j\n",
    "    if fileName not in completed:\n",
    "      start = time.time()\n",
    "      print(fileName)\n",
    "      supervisedModelTraining.binaryLogisticRegression(valueDict[i], valueDict[j], folds, groups, fileName, \"Datasets/RECOLA/Supervised Models/\")\n",
    "      end = time.time()\n",
    "      print(\"Done: \" + str(end-start) + \"\\n\")\n",
    "\n",
    "      with open(\"Datasets/RECOLA/Supervised Models/Binary Logistic Regression/NoCopyChecker.txt\", \"a\") as file:\n",
    "        file.write(fileName + \" \")\n",
    "        file.close"
   ]
  },
  {
   "cell_type": "markdown",
   "metadata": {},
   "source": [
    "### Random Forest"
   ]
  },
  {
   "cell_type": "code",
   "execution_count": 8,
   "metadata": {},
   "outputs": [
    {
     "name": "stdout",
     "output_type": "stream",
     "text": [
      "Random Forest has already started training, will not start again from scratch.\n"
     ]
    }
   ],
   "source": [
    "if \"Random Forest\" not in os.listdir(\"Datasets/RECOLA/Supervised Models\"):\n",
    "    os.makedirs(\"Datasets/RECOLA/Supervised Models/Random Forest\")\n",
    "\n",
    "if \"Per Fold Results\" not in os.listdir(\"Datasets/RECOLA/Supervised Models/Random Forest\"):\n",
    "  os.makedirs(\"Datasets/RECOLA/Supervised Models/Random Forest/Per Fold Results\")\n",
    "\n",
    "if \"ConfusionMatrices.csv\" not in os.listdir(\"Datasets/RECOLA/Supervised Models/Random Forest\") or RERUN_CODE == True:\n",
    "  open(\"Datasets/RECOLA/Supervised Models/Random Forest/ConfusionMatrices.csv\", \"w\")\n",
    "\n",
    "if \"NoCopyChecker.txt\" in os.listdir(\"Datasets/RECOLA/Supervised Models/Random Forest\") and RERUN_CODE == False:\n",
    "  print(\"Random Forest has already started training, will not start again from scratch.\")\n",
    "else:\n",
    "  with open(\"Datasets/RECOLA/Supervised Models/Random Forest/NoCopyChecker.txt\", \"w\") as file:\n",
    "    file.close"
   ]
  },
  {
   "cell_type": "code",
   "execution_count": 9,
   "metadata": {},
   "outputs": [
    {
     "name": "stdout",
     "output_type": "stream",
     "text": [
      "Completed Tests: 8/8\n"
     ]
    }
   ],
   "source": [
    "completed  = []\n",
    "with open(\"Datasets/RECOLA/Supervised Models/Random Forest/NoCopyChecker.txt\", \"r+\") as file:\n",
    "  completed  = file.read()\n",
    "  file.close()\n",
    "\n",
    "completed = completed.split()\n",
    "print(\"Completed Tests: \" + str(len(completed)) + \"/\" + str(len(featureList) * len(targetList)))\n",
    "\n",
    "for i in featureList:\n",
    "  for j in targetList:\n",
    "    fileName = i + j\n",
    "    if fileName not in completed:\n",
    "      start = time.time()\n",
    "      print(fileName)\n",
    "      supervisedModelTraining.randomForest(valueDict[i], valueDict[j], folds, groups, fileName, \"Datasets/RECOLA/Supervised Models/\")\n",
    "      end = time.time()\n",
    "      print(\"Done: \" + str(end-start) + \"\\n\")\n",
    "\n",
    "      with open(\"Datasets/RECOLA/Supervised Models/Random Forest/NoCopyChecker.txt\", \"a\") as file:\n",
    "        file.write(fileName + \" \")\n",
    "        file.close"
   ]
  },
  {
   "cell_type": "markdown",
   "metadata": {},
   "source": [
    "### Neural Networks"
   ]
  },
  {
   "cell_type": "code",
   "execution_count": 10,
   "metadata": {},
   "outputs": [
    {
     "name": "stdout",
     "output_type": "stream",
     "text": [
      "Neural Network has already started training, will not start again from scratch.\n"
     ]
    }
   ],
   "source": [
    "if \"Neural Network\" not in os.listdir(\"Datasets/RECOLA/Supervised Models\"):\n",
    "    os.makedirs(\"Datasets/RECOLA/Supervised Models/Neural Network\")\n",
    "\n",
    "if \"Per Fold Results\" not in os.listdir(\"Datasets/RECOLA/Supervised Models/Neural Network\"):\n",
    "  os.makedirs(\"Datasets/RECOLA/Supervised Models/Neural Network/Per Fold Results\")\n",
    "\n",
    "if \"ConfusionMatrices.csv\" not in os.listdir(\"Datasets/RECOLA/Supervised Models/Neural Network\") or RERUN_CODE == True:\n",
    "  open(\"Datasets/RECOLA/Supervised Models/Neural Network/ConfusionMatrices.csv\", \"w\")\n",
    "\n",
    "if \"NoCopyChecker.txt\" in os.listdir(\"Datasets/RECOLA/Supervised Models/Neural Network\") and RERUN_CODE == False:\n",
    "  print(\"Neural Network has already started training, will not start again from scratch.\")\n",
    "else:\n",
    "  with open(\"Datasets/RECOLA/Supervised Models/Neural Network/NoCopyChecker.txt\", \"w\") as file:\n",
    "    file.close"
   ]
  },
  {
   "cell_type": "code",
   "execution_count": 11,
   "metadata": {},
   "outputs": [
    {
     "name": "stdout",
     "output_type": "stream",
     "text": [
      "Completed Tests: 8/8\n"
     ]
    }
   ],
   "source": [
    "completed  = []\n",
    "with open(\"Datasets/RECOLA/Supervised Models/Neural Network/NoCopyChecker.txt\", \"r+\") as file:\n",
    "  completed  = file.read()\n",
    "  file.close()\n",
    "\n",
    "completed = completed.split()\n",
    "print(\"Completed Tests: \" + str(len(completed)) + \"/\" + str(len(featureList) * len(targetList)))\n",
    "\n",
    "for i in featureList:\n",
    "  for j in targetList:\n",
    "    fileName = i + j\n",
    "    if fileName not in completed:\n",
    "      start = time.time()\n",
    "      print(fileName)\n",
    "      supervisedModelTraining.neuralNetwork(valueDict[i], valueDict[j], folds, groups, fileName, \"Datasets/RECOLA/Supervised Models/\")\n",
    "      end = time.time()\n",
    "      print(\"Done: \" + str(end-start) + \"\\n\")\n",
    "\n",
    "      with open(\"Datasets/RECOLA/Supervised Models/Neural Network/NoCopyChecker.txt\", \"a\") as file:\n",
    "        file.write(fileName + \" \")\n",
    "        file.close"
   ]
  },
  {
   "cell_type": "markdown",
   "metadata": {},
   "source": [
    "## Semi-Supervised Training"
   ]
  },
  {
   "cell_type": "markdown",
   "metadata": {},
   "source": [
    "### Setup"
   ]
  },
  {
   "cell_type": "code",
   "execution_count": 12,
   "metadata": {},
   "outputs": [],
   "source": [
    "if \"Semi-Supervised Models\" not in os.listdir(\"Datasets/RECOLA\"):\n",
    "    os.makedirs(\"Datasets/RECOLA/Semi-Supervised Models\") \n",
    "\n",
    "# Grouping data for easy running\n",
    "featureList = [\"Audio\", \"Visual\", \"Phys\", \"All\"]\n",
    "targetList = [\"Arousal\", \"Valence\"]\n",
    "baseEstList = [\"BLR\", \"RF\", \"NN\"]\n",
    "labelledCount = [\"4\", \"8\", \"12\"]\n",
    "valueDict = {\"Audio\": audioFeatures, \"Visual\": visualFeatures, \"Phys\": physiologyFeatures, \"All\": allFeatures, \"Arousal\": targetArousal, \"Valence\": targetValence}\n",
    "\n",
    "if not hasattr(np, 'float'):\n",
    "    np.float = float"
   ]
  },
  {
   "cell_type": "markdown",
   "metadata": {},
   "source": [
    "### Co-Training (Disagreement)"
   ]
  },
  {
   "cell_type": "code",
   "execution_count": 13,
   "metadata": {},
   "outputs": [
    {
     "name": "stdout",
     "output_type": "stream",
     "text": [
      "Co-Training has already started training, will not start again from scratch.\n"
     ]
    }
   ],
   "source": [
    "if \"Co-Training\" not in os.listdir(\"Datasets/RECOLA/Semi-Supervised Models\"):\n",
    "  os.makedirs(\"Datasets/RECOLA/Semi-Supervised Models/Co-Training\")\n",
    "\n",
    "if \"Per Fold Results\" not in os.listdir(\"Datasets/RECOLA/Semi-Supervised Models/Co-Training\"):\n",
    "  os.makedirs(\"Datasets/RECOLA/Semi-Supervised Models/Co-Training/Per Fold Results\")\n",
    "\n",
    "if \"ConfusionMatrices.csv\" not in os.listdir(\"Datasets/RECOLA/Semi-Supervised Models/Co-Training\") or RERUN_CODE == True:\n",
    "  open(\"Datasets/RECOLA/Semi-Supervised Models/Co-Training/ConfusionMatrices.csv\", \"w\")\n",
    "\n",
    "if \"NoCopyChecker.txt\" in os.listdir(\"Datasets/RECOLA/Semi-Supervised Models/Co-Training\") and RERUN_CODE == False:\n",
    "  print(\"Co-Training has already started training, will not start again from scratch.\")\n",
    "else:\n",
    "  with open(\"Datasets/RECOLA/Semi-Supervised Models/Co-Training/NoCopyChecker.txt\", \"w\") as file:\n",
    "    file.close"
   ]
  },
  {
   "cell_type": "code",
   "execution_count": 14,
   "metadata": {},
   "outputs": [
    {
     "name": "stdout",
     "output_type": "stream",
     "text": [
      "Completed Tests: 72/72\n"
     ]
    }
   ],
   "source": [
    "completed  = []\n",
    "with open(\"Datasets/RECOLA/Semi-Supervised Models/Co-Training/NoCopyChecker.txt\", \"r+\") as file:\n",
    "  completed  = file.read()\n",
    "  file.close()\n",
    "\n",
    "completed = completed.split()\n",
    "print(\"Completed Tests: \" + str(len(completed)) + \"/\" + str(len(featureList)*len(targetList)*len(baseEstList)*len(labelledCount)))\n",
    "\n",
    "for i in featureList:\n",
    "  for j in targetList:\n",
    "    for k in baseEstList:\n",
    "      for l in labelledCount:\n",
    "        fileName = i + j + k + l\n",
    "        if fileName not in completed:\n",
    "          start = time.time()\n",
    "\n",
    "          print(fileName)\n",
    "          semiSupervisedModelTraining.coTraining (k, valueDict[i], valueDict[j], folds, groups, int(l), fileName, \"Datasets/RECOLA/Semi-Supervised Models/\")\n",
    "\n",
    "          end = time.time()\n",
    "          print(\"Done: \" + str(end-start) + \"\\n\")\n",
    "\n",
    "          with open(\"Datasets/RECOLA/Semi-Supervised Models/Co-Training/NoCopyChecker.txt\", \"a\") as file:\n",
    "            file.write(fileName + \" \")\n",
    "            file.close"
   ]
  },
  {
   "cell_type": "markdown",
   "metadata": {},
   "source": [
    "### Tri-Training (Disagreement)"
   ]
  },
  {
   "cell_type": "code",
   "execution_count": 15,
   "metadata": {},
   "outputs": [
    {
     "name": "stdout",
     "output_type": "stream",
     "text": [
      "Tri-Training has already started training, will not start again from scratch.\n"
     ]
    }
   ],
   "source": [
    "if \"Tri-Training\" not in os.listdir(\"Datasets/RECOLA/Semi-Supervised Models\"):\n",
    "  os.makedirs(\"Datasets/RECOLA/Semi-Supervised Models/Tri-Training\")\n",
    "\n",
    "if \"Per Fold Results\" not in os.listdir(\"Datasets/RECOLA/Semi-Supervised Models/Tri-Training\"):\n",
    "  os.makedirs(\"Datasets/RECOLA/Semi-Supervised Models/Tri-Training/Per Fold Results\")\n",
    "\n",
    "if \"ConfusionMatrices.csv\" not in os.listdir(\"Datasets/RECOLA/Semi-Supervised Models/Tri-Training\") or RERUN_CODE == True:\n",
    "  open(\"Datasets/RECOLA/Semi-Supervised Models/Tri-Training/ConfusionMatrices.csv\", \"w\")\n",
    "\n",
    "if \"NoCopyChecker.txt\" in os.listdir(\"Datasets/RECOLA/Semi-Supervised Models/Tri-Training\") and RERUN_CODE == False:\n",
    "  print(\"Tri-Training has already started training, will not start again from scratch.\")\n",
    "else:\n",
    "  with open(\"Datasets/RECOLA/Semi-Supervised Models/Tri-Training/NoCopyChecker.txt\", \"w\") as file:\n",
    "    file.close"
   ]
  },
  {
   "cell_type": "code",
   "execution_count": 16,
   "metadata": {},
   "outputs": [
    {
     "name": "stdout",
     "output_type": "stream",
     "text": [
      "Completed Tests: 72/72\n"
     ]
    }
   ],
   "source": [
    "completed  = []\n",
    "with open(\"Datasets/RECOLA/Semi-Supervised Models/Tri-Training/NoCopyChecker.txt\", \"r+\") as file:\n",
    "  completed  = file.read()\n",
    "  file.close()\n",
    "\n",
    "completed = completed.split()\n",
    "print(\"Completed Tests: \" + str(len(completed)) + \"/\" + str(len(featureList)*len(targetList)*len(baseEstList)*len(labelledCount)))\n",
    "\n",
    "for i in featureList:\n",
    "  for j in targetList:\n",
    "    for k in baseEstList:\n",
    "      for l in labelledCount:\n",
    "        fileName = i + j + k + l\n",
    "        if fileName not in completed:\n",
    "          start = time.time()\n",
    "\n",
    "          print(fileName)\n",
    "          semiSupervisedModelTraining.triTraining(k, valueDict[i], valueDict[j], folds, groups, int(l), fileName, \"Datasets/RECOLA/Semi-Supervised Models/\")\n",
    "\n",
    "          end = time.time()\n",
    "          print(\"Done: \" + str(end-start) + \"\\n\")\n",
    "\n",
    "          with open(\"Datasets/RECOLA/Semi-Supervised Models/Tri-Training/NoCopyChecker.txt\", \"a\") as file:\n",
    "            file.write(fileName + \" \")\n",
    "            file.close"
   ]
  },
  {
   "cell_type": "markdown",
   "metadata": {},
   "source": [
    "### SSGMM (Generative)"
   ]
  },
  {
   "cell_type": "code",
   "execution_count": 19,
   "metadata": {},
   "outputs": [],
   "source": [
    "if \"SSGMM\" not in os.listdir(\"Datasets/RECOLA/Semi-Supervised Models\"):\n",
    "  os.makedirs(\"Datasets/RECOLA/Semi-Supervised Models/SSGMM\")\n",
    "\n",
    "if \"Per Fold Results\" not in os.listdir(\"Datasets/RECOLA/Semi-Supervised Models/SSGMM\"):\n",
    "  os.makedirs(\"Datasets/RECOLA/Semi-Supervised Models/SSGMM/Per Fold Results\")\n",
    "\n",
    "if \"ConfusionMatrices.csv\" not in os.listdir(\"Datasets/RECOLA/Semi-Supervised Models/SSGMM\") or RERUN_CODE == True:\n",
    "  open(\"Datasets/RECOLA/Semi-Supervised Models/SSGMM/ConfusionMatrices.csv\", \"w\")\n",
    "\n",
    "if \"NoCopyChecker.txt\" in os.listdir(\"Datasets/RECOLA/Semi-Supervised Models/SSGMM\") and RERUN_CODE == False:\n",
    "  print(\"SSGMM has already started training, will not start again from scratch.\")\n",
    "else:\n",
    "  with open(\"Datasets/RECOLA/Semi-Supervised Models/SSGMM/NoCopyChecker.txt\", \"w\") as file:\n",
    "    file.close"
   ]
  },
  {
   "cell_type": "code",
   "execution_count": 20,
   "metadata": {},
   "outputs": [
    {
     "name": "stdout",
     "output_type": "stream",
     "text": [
      "Completed Tests: 24/24\n"
     ]
    }
   ],
   "source": [
    "completed  = []\n",
    "with open(\"Datasets/RECOLA/Semi-Supervised Models/SSGMM/NoCopyChecker.txt\", \"r+\") as file:\n",
    "  completed  = file.read()\n",
    "  file.close()\n",
    "\n",
    "completed = completed.split()\n",
    "print(\"Completed Tests: \" + str(len(completed)) + \"/\" + str(len(featureList)*len(targetList)*len(labelledCount)))\n",
    "\n",
    "for i in featureList:\n",
    "  for j in targetList:\n",
    "    for l in labelledCount:\n",
    "      fileName = i + j + l\n",
    "      if fileName not in completed:\n",
    "        start = time.time()\n",
    "        print(fileName)\n",
    "        semiSupervisedModelTraining.SSGMMModel(valueDict[i], valueDict[j], folds, groups, int(l), fileName, \"Datasets/RECOLA/Semi-Supervised Models/\")\n",
    "        end = time.time()\n",
    "        print(\"Done: \" + str(end-start) + \"\\n\")\n",
    "\n",
    "        with open(\"Datasets/RECOLA/Semi-Supervised Models/SSGMM/NoCopyChecker.txt\", \"a\") as file:\n",
    "          file.write(fileName + \" \")\n",
    "          file.close"
   ]
  },
  {
   "cell_type": "markdown",
   "metadata": {},
   "source": [
    "### Assemble (Ensemble)"
   ]
  },
  {
   "cell_type": "code",
   "execution_count": null,
   "metadata": {},
   "outputs": [
    {
     "name": "stdout",
     "output_type": "stream",
     "text": [
      "Assemble has already started training, will not start again from scratch.\n"
     ]
    }
   ],
   "source": [
    "if \"Assemble\" not in os.listdir(\"Datasets/RECOLA/Semi-Supervised Models\"):\n",
    "  os.makedirs(\"Datasets/RECOLA/Semi-Supervised Models/Assemble\")\n",
    "\n",
    "if \"Per Fold Results\" not in os.listdir(\"Datasets/RECOLA/Semi-Supervised Models/Assemble\"):\n",
    "  os.makedirs(\"Datasets/RECOLA/Semi-Supervised Models/Assemble/Per Fold Results\")\n",
    "\n",
    "if \"ConfusionMatrices.csv\" not in os.listdir(\"Datasets/RECOLA/Semi-Supervised Models/Assemble\") or RERUN_CODE == True:\n",
    "  open(\"Datasets/RECOLA/Semi-Supervised Models/Assemble/ConfusionMatrices.csv\", \"w\")\n",
    "\n",
    "if \"NoCopyChecker.txt\" in os.listdir(\"Datasets/RECOLA/Semi-Supervised Models/Assemble\") and RERUN_CODE == False:\n",
    "  print(\"Assemble has already started training, will not start again from scratch.\")\n",
    "else:\n",
    "  with open(\"Datasets/RECOLA/Semi-Supervised Models/Assemble/NoCopyChecker.txt\", \"w\") as file:\n",
    "    file.close"
   ]
  },
  {
   "cell_type": "code",
   "execution_count": null,
   "metadata": {},
   "outputs": [
    {
     "name": "stdout",
     "output_type": "stream",
     "text": [
      "Completed Tests: 48/72\n"
     ]
    }
   ],
   "source": [
    "completed = []\n",
    "with open(\"Datasets/RECOLA/Semi-Supervised Models/Assemble/NoCopyChecker.txt\", \"r+\") as file:\n",
    "  completed = file.read()\n",
    "  file.close()\n",
    "\n",
    "completed = completed.split()\n",
    "print(\"Completed Tests: \" + str(len(completed)) + \"/\" + str(len(featureList)*len(targetList)*len(baseEstList)*len(labelledCount)))\n",
    "\n",
    "for i in featureList:\n",
    "  for j in targetList:\n",
    "    for k in baseEstList:\n",
    "      if k is not \"NN\":\n",
    "        for l in labelledCount:\n",
    "          fileName = i + j + k + l\n",
    "          if fileName not in completed:\n",
    "            start = time.time()\n",
    "            print(fileName)\n",
    "            semiSupervisedModelTraining.assemble(k, valueDict[i], valueDict[j], folds, groups, int(l), fileName, \"Datasets/RECOLA/Semi-Supervised Models/\")\n",
    "            end = time.time()\n",
    "            print(\"Done: \" + str(end-start) + \"\\n\")\n",
    "\n",
    "            with open(\"Datasets/RECOLA/Semi-Supervised Models/Assemble/NoCopyChecker.txt\", \"a\") as file:\n",
    "              file.write(fileName + \" \")\n",
    "              file.close"
   ]
  },
  {
   "cell_type": "markdown",
   "metadata": {},
   "source": [
    "### SemiBoost (Ensemble)"
   ]
  },
  {
   "cell_type": "code",
   "execution_count": null,
   "metadata": {},
   "outputs": [
    {
     "name": "stdout",
     "output_type": "stream",
     "text": [
      "SemiBoost has already started training, will not start again from scratch.\n"
     ]
    }
   ],
   "source": [
    "if \"SemiBoost\" not in os.listdir(\"Datasets/RECOLA/Semi-Supervised Models\"):\n",
    "  os.makedirs(\"Datasets/RECOLA/Semi-Supervised Models/SemiBoost\")\n",
    "\n",
    "if \"Per Fold Results\" not in os.listdir(\"Datasets/RECOLA/Semi-Supervised Models/SemiBoost\"):\n",
    "  os.makedirs(\"Datasets/RECOLA/Semi-Supervised Models/SemiBoost/Per Fold Results\")\n",
    "\n",
    "if \"ConfusionMatrices.csv\" not in os.listdir(\"Datasets/RECOLA/Semi-Supervised Models/SemiBoost\") or RERUN_CODE == True:\n",
    "  open(\"Datasets/RECOLA/Semi-Supervised Models/SemiBoost/ConfusionMatrices.csv\", \"w\")\n",
    "\n",
    "if \"NoCopyChecker.txt\" in os.listdir(\"Datasets/RECOLA/Semi-Supervised Models/SemiBoost\") and RERUN_CODE == False:\n",
    "  print(\"SemiBoost has already started training, will not start again from scratch.\")\n",
    "else:\n",
    "  with open(\"Datasets/RECOLA/Semi-Supervised Models/SemiBoost/NoCopyChecker.txt\", \"w\") as file:\n",
    "    file.close"
   ]
  },
  {
   "cell_type": "code",
   "execution_count": null,
   "metadata": {},
   "outputs": [
    {
     "name": "stdout",
     "output_type": "stream",
     "text": [
      "Completed Tests: 72/72\n"
     ]
    }
   ],
   "source": [
    "completed = []\n",
    "with open(\"Datasets/RECOLA/Semi-Supervised Models/SemiBoost/NoCopyChecker.txt\", \"r+\") as file:\n",
    "  completed = file.read()\n",
    "  file.close()\n",
    "\n",
    "completed = completed.split()\n",
    "print(\"Completed Tests: \" + str(len(completed)) + \"/\" + str(len(featureList)*len(targetList)*len(baseEstList)*len(labelledCount)))\n",
    "\n",
    "for i in featureList:\n",
    "  for j in targetList:\n",
    "    for k in baseEstList:\n",
    "      for l in labelledCount:\n",
    "        fileName = i + j + k + l\n",
    "        if fileName not in completed:\n",
    "          start = time.time()\n",
    "          print(fileName)\n",
    "          semiSupervisedModelTraining.semiBoost(k, valueDict[i], valueDict[j], folds, groups, int(l), fileName, \"Datasets/RECOLA/Semi-Supervised Models/\")\n",
    "          end = time.time()\n",
    "          print(\"Done: \" + str(end-start) + \"\\n\")\n",
    "\n",
    "          with open(\"Datasets/RECOLA/Semi-Supervised Models/SemiBoost/NoCopyChecker.txt\", \"a\") as file:\n",
    "            file.write(fileName + \" \")\n",
    "            file.close"
   ]
  }
 ],
 "metadata": {
  "kernelspec": {
   "display_name": "FYP_Environment",
   "language": "python",
   "name": "python3"
  },
  "language_info": {
   "codemirror_mode": {
    "name": "ipython",
    "version": 3
   },
   "file_extension": ".py",
   "mimetype": "text/x-python",
   "name": "python",
   "nbconvert_exporter": "python",
   "pygments_lexer": "ipython3",
   "version": "3.11.7"
  }
 },
 "nbformat": 4,
 "nbformat_minor": 2
}
