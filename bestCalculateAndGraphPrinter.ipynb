{
 "cells": [
  {
   "cell_type": "code",
   "execution_count": 1,
   "metadata": {},
   "outputs": [
    {
     "name": "stderr",
     "output_type": "stream",
     "text": [
      "C:\\Users\\User\\AppData\\Local\\Temp\\ipykernel_25272\\1067897102.py:2: DeprecationWarning: \n",
      "Pyarrow will become a required dependency of pandas in the next major release of pandas (pandas 3.0),\n",
      "(to allow more performant data types, such as the Arrow string type, and better interoperability with other libraries)\n",
      "but was not found to be installed on your system.\n",
      "If this would cause problems for you,\n",
      "please provide us feedback at https://github.com/pandas-dev/pandas/issues/54466\n",
      "        \n",
      "  import pandas as pd\n"
     ]
    }
   ],
   "source": [
    "import os\n",
    "import pandas as pd\n",
    "import numpy as np\n",
    "import matplotlib.pyplot as plt\n",
    "import scipy"
   ]
  },
  {
   "cell_type": "code",
   "execution_count": 2,
   "metadata": {},
   "outputs": [],
   "source": [
    "def getTheNeededRows(frame, feature, target):\n",
    "    # To get best model\n",
    "    highestAccuracy, accuracyTest = 0, None\n",
    "    for index, row in frame.iterrows():\n",
    "        test = row[\"Test Name\"]\n",
    "        if feature in test and target in test and (\"Training\" in test or \"SSGMM\" in test or \"Assemble\" in test or \"SemiBoost\" in test):\n",
    "            if row[\"Accuracy\"] > highestAccuracy: highestAccuracy = row[\"Accuracy\"]; accuracyTest = test\n",
    "\n",
    "    temp = None\n",
    "    if \"BLR\" in accuracyTest: temp = \"Binary Logistic Regression\"\n",
    "    elif \"RF\" in accuracyTest: temp = \"Random Forest\"\n",
    "    elif \"NN\" in accuracyTest: temp = \"Neural Network\"\n",
    "\n",
    "    supervised = temp + \": \" + feature + target\n",
    "    supervisedAccuracy = 0\n",
    "\n",
    "    for index, row in frame.iterrows():\n",
    "        if row[\"Test Name\"] == supervised:\n",
    "            supervisedAccuracy = row[\"Accuracy\"]    \n",
    "\n",
    "    percentageDiff = (highestAccuracy-supervisedAccuracy)\n",
    "    percentageDiff = percentageDiff / ((highestAccuracy+supervisedAccuracy)/2)\n",
    "    if(percentageDiff < 0): percentageDiff = percentageDiff * -1\n",
    "    percentageDiff = percentageDiff * 100\n",
    "\n",
    "\n",
    "    print(feature + \": \")\n",
    "    print(accuracyTest, \"-\", highestAccuracy)\n",
    "    print(supervised, \"-\", supervisedAccuracy)\n",
    "    print(\"Percentage Difference:\", percentageDiff)\n",
    "    if percentageDiff <= 5: print(\"Significant: No\")\n",
    "    else: print(\"Significant: Yes\")\n",
    "    print()\n",
    "\n",
    "    return highestAccuracy, supervisedAccuracy"
   ]
  },
  {
   "cell_type": "code",
   "execution_count": 3,
   "metadata": {},
   "outputs": [],
   "source": [
    "def getTheNeededRowsAGAIN(frame, game):\n",
    "    # To get best model\n",
    "    highestAccuracy, accuracyTest = 0, None\n",
    "    for index, row in frame.iterrows():\n",
    "        test = row[\"Test Name\"]\n",
    "        if game in test and (\"Training\" in test or \"SSGMM\" in test or \"Assemble\" in test or \"SemiBoost\" in test):\n",
    "            if row[\"Accuracy\"] > highestAccuracy: highestAccuracy = row[\"Accuracy\"]; accuracyTest = test\n",
    "\n",
    "    temp = None\n",
    "    if \"BLR\" in accuracyTest: temp = \"Binary Logistic Regression\"\n",
    "    elif \"RF\" in accuracyTest: temp = \"Random Forest\"\n",
    "    elif \"NN\" in accuracyTest: temp = \"Neural Network\"\n",
    "\n",
    "    supervised = temp + \": \" + game\n",
    "    supervisedAccuracy = 0\n",
    "\n",
    "    for index, row in frame.iterrows():\n",
    "        if row[\"Test Name\"] == supervised:\n",
    "            supervisedAccuracy = row[\"Accuracy\"]    \n",
    "\n",
    "    percentageDiff = (highestAccuracy-supervisedAccuracy)\n",
    "    percentageDiff = percentageDiff / ((highestAccuracy+supervisedAccuracy)/2)\n",
    "    if(percentageDiff < 0): percentageDiff = percentageDiff * -1\n",
    "    percentageDiff = percentageDiff * 100\n",
    "\n",
    "    print(accuracyTest, \"-\", highestAccuracy*100)\n",
    "    print(supervised, \"-\", supervisedAccuracy*100)\n",
    "    print(\"Percentage Difference:\", percentageDiff)\n",
    "    if percentageDiff <= 5: print(\"Significant: No\")\n",
    "    else: print(\"Significant: Yes\")\n",
    "    print()\n",
    "\n",
    "    return highestAccuracy, supervisedAccuracy"
   ]
  },
  {
   "cell_type": "code",
   "execution_count": 4,
   "metadata": {},
   "outputs": [],
   "source": [
    "def graphMaker(frame, graph1, graph2):\n",
    "    index1, index2 = 0, 0\n",
    "\n",
    "    index1 = frame.index[frame['Test Name'] == graph1].tolist()[0]\n",
    "    index2 = frame.index[frame['Test Name'] == graph2].tolist()[0]\n",
    "    print(index1, index2)\n",
    "\n",
    "    accuracy = [frame.iloc[index1][\"Accuracy\"], frame.iloc[index2][\"Accuracy\"]]\n",
    "    precision = [frame.iloc[index1][\"Precision\"], frame.iloc[index2][\"Precision\"]]\n",
    "    recall = [frame.iloc[index1][\"Recall\"], frame.iloc[index2][\"Recall\"]]\n",
    "    f1Score = [frame.iloc[index1][\"F1 Score\"], frame.iloc[index2][\"F1 Score\"]]\n",
    "\n",
    "    testNames = [graph1, graph2]\n",
    "    details = {\"Accuracy\": (accuracy), \"Precision\":precision, \"Recall\": recall, \"F1 Score\":f1Score}\n",
    "\n",
    "    y = np.arange(len(testNames))\n",
    "    height = 0.2\n",
    "    multiplier = 0\n",
    "\n",
    "    fig, ax = plt.subplots(layout='constrained', figsize=(8, 8))\n",
    "    maxMeasurement = 0\n",
    "    for attribute, measurement in details.items():\n",
    "        for num in measurement:\n",
    "            if maxMeasurement < num:\n",
    "                maxMeasurement = num\n",
    "\n",
    "        offset = height * multiplier\n",
    "        ax.bar(x=(y + offset), height=measurement, width=height, label=attribute)\n",
    "        multiplier += 1\n",
    "\n",
    "    ax.set_xticks(y + height * multiplier / 2.5)\n",
    "    ax.set_xticklabels(testNames)\n",
    "    ax.legend()\n",
    "    ax.set_ylim(0, maxMeasurement + 0.1)"
   ]
  },
  {
   "cell_type": "code",
   "execution_count": 5,
   "metadata": {},
   "outputs": [
    {
     "name": "stdout",
     "output_type": "stream",
     "text": [
      "T O P   D O W N\n",
      "SemiBoost: TopDownBLR12 - 76.81198910081744\n",
      "Binary Logistic Regression: TopDown - 76.566757493188\n",
      "Percentage Difference: 0.3197726061467376\n",
      "Significant: No\n",
      "\n",
      "----------------------------------------\n",
      "\n",
      "S H O O T O U T\n",
      "Assemble: ShootoutRF8 - 80.7574832009774\n",
      "Random Forest: Shootout - 80.81857055589494\n",
      "Percentage Difference: 0.0756143667296933\n",
      "Significant: No\n",
      "\n",
      "----------------------------------------\n",
      "\n",
      "H E I S T !\n",
      "Assemble: Heist!BLR12 - 74.34701492537312\n",
      "Binary Logistic Regression: Heist! - 72.6679104477612\n",
      "Percentage Difference: 2.284263959390843\n",
      "Significant: No\n",
      "\n",
      "----------------------------------------\n",
      "\n"
     ]
    }
   ],
   "source": [
    "recola = \"Results/RECOLA_Results.csv\"\n",
    "again = \"Results/AGAIN_Results.csv\"\n",
    "\n",
    "# frame = pd.read_csv(recola)\n",
    "# print(\"A R O U S A L\")\n",
    "# semi4A, full4A = getTheNeededRows(frame, \"All\", \"Arousal\")\n",
    "# semi1A, full1A = getTheNeededRows(frame, \"Audio\", \"Arousal\")\n",
    "# semi2A, full2A = getTheNeededRows(frame, \"Visual\", \"Arousal\")\n",
    "# semi3A, full3A = getTheNeededRows(frame, \"Phys\", \"Arousal\")\n",
    "# print(\"----------------------------------------\\n\")\n",
    "\n",
    "# print(\"V A L E N C E\")\n",
    "# semiV4, fullV4 = getTheNeededRows(frame, \"All\", \"Valence\")\n",
    "# semiV1, fullV1 = getTheNeededRows(frame, \"Audio\", \"Valence\")\n",
    "# semiV2, fullV2 = getTheNeededRows(frame, \"Visual\", \"Valence\")\n",
    "# semiV3, fullV3 = getTheNeededRows(frame, \"Phys\", \"Valence\")\n",
    "# print(\"----------------------------------------\\n\")\n",
    "\n",
    "frame = pd.read_csv(again)\n",
    "print(\"T O P   D O W N\")\n",
    "semiTop, fullTop = getTheNeededRowsAGAIN(frame, \"TopDown\")\n",
    "print(\"----------------------------------------\\n\")\n",
    "\n",
    "print(\"S H O O T O U T\")\n",
    "semiTop, fullTop = getTheNeededRowsAGAIN(frame, \"Shootout\")\n",
    "print(\"----------------------------------------\\n\")\n",
    "\n",
    "print(\"H E I S T !\")\n",
    "semiTop, fullTop = getTheNeededRowsAGAIN(frame, \"Heist!\")\n",
    "print(\"----------------------------------------\\n\")\n"
   ]
  },
  {
   "cell_type": "code",
   "execution_count": 9,
   "metadata": {},
   "outputs": [
    {
     "name": "stdout",
     "output_type": "stream",
     "text": [
      "78 83\n"
     ]
    },
    {
     "data": {
      "image/png": "[encoded data removed]",
      "text/plain": [
       "<Figure size 800x800 with 1 Axes>"
      ]
     },
     "metadata": {},
     "output_type": "display_data"
    }
   ],
   "source": [
    "graphMaker(frame, \"Binary Logistic Regression: Heist!\", \"Assemble: Heist!BLR12\")"
   ]
  }
 ],
 "metadata": {
  "kernelspec": {
   "display_name": "FYP_Environment",
   "language": "python",
   "name": "python3"
  },
  "language_info": {
   "codemirror_mode": {
    "name": "ipython",
    "version": 3
   },
   "file_extension": ".py",
   "mimetype": "text/x-python",
   "name": "python",
   "nbconvert_exporter": "python",
   "pygments_lexer": "ipython3",
   "version": "3.11.7"
  }
 },
 "nbformat": 4,
 "nbformat_minor": 2
}
